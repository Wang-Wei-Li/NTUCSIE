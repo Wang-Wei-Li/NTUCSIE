{
 "cells": [
  {
   "cell_type": "code",
   "execution_count": 1,
   "metadata": {},
   "outputs": [],
   "source": [
    "import csv\n",
    "import json\n",
    "import mysql.connector\n",
    "\n",
    "with open('hw5_config.json') as f:\n",
    "    config = json.load(f)\n",
    "\n",
    "host = config['host']\n",
    "user = config['user']\n",
    "passwd = config['passwd']\n",
    "dbms_student_path = config['dbms_student_path']\n",
    "new_student_path = config['new_student_path']"
   ]
  },
  {
   "attachments": {},
   "cell_type": "markdown",
   "metadata": {},
   "source": [
    "## 1-1: Input data into student table"
   ]
  },
  {
   "cell_type": "code",
   "execution_count": 2,
   "metadata": {},
   "outputs": [],
   "source": [
    "import pandas as pd\n",
    "\n",
    "mydb = mysql.connector.connect(host = host, user = user, passwd = passwd)\n",
    "mycursor = mydb.cursor()\n",
    "mycursor2 = mydb.cursor(prepared = True)\n",
    "\n",
    "mycursor.execute(\"CREATE DATABASE IF NOT EXISTS DB_class\")\n",
    "mydb.commit()\n",
    "\n",
    "mycursor.execute(\"USE DB_class\")\n",
    "\n",
    "mycursor.execute(\"CREATE TABLE IF NOT EXISTS student (身份 varchar(255), 系所 varchar(255), 年級 int, 學號 varchar(255) PRIMARY KEY, 姓名 varchar(255), 信箱 varchar(255), 班別 varchar(255))\")\n",
    "mydb.commit()\n",
    "\n",
    "df = pd.read_csv(dbms_student_path, encoding = 'big5')\n",
    "df = df.where(pd.notnull(df), None)\n",
    "\n",
    "def trim(x):\n",
    "    x = x.strip() if isinstance(x, str) else x\n",
    "    return x\n",
    "\n",
    "for index, row in df.iterrows():\n",
    "    row = [trim(cell) for cell in row]\n",
    "    mycursor2.execute(\"INSERT INTO student (身份, 系所, 年級, 學號, 姓名, 信箱, 班別) VALUES (%s, %s, %s, %s, %s, %s, %s)\", tuple(row))\n",
    "    mydb.commit()"
   ]
  },
  {
   "attachments": {},
   "cell_type": "markdown",
   "metadata": {},
   "source": [
    "## 1-2: Read the information about yourself"
   ]
  },
  {
   "cell_type": "code",
   "execution_count": 3,
   "metadata": {},
   "outputs": [
    {
     "name": "stdout",
     "output_type": "stream",
     "text": [
      "('學生', '資工所', 1, 'R12922116', '王偉力 (WANG, WEI-LI)', 'r12922116@ntu.edu.tw', '資料庫系統-從SQL到NoSQL (EE5178)')\n"
     ]
    }
   ],
   "source": [
    "mycursor.execute(\"SELECT * FROM student WHERE 學號 = 'R12922116'\")\n",
    "print(mycursor.fetchall()[0])"
   ]
  },
  {
   "attachments": {},
   "cell_type": "markdown",
   "metadata": {},
   "source": [
    "## 1-3: Update your own value of the \"身份\" column "
   ]
  },
  {
   "cell_type": "code",
   "execution_count": 4,
   "metadata": {},
   "outputs": [
    {
     "name": "stdout",
     "output_type": "stream",
     "text": [
      "('特優生', '資工所', 1, 'R12922116', '王偉力 (WANG, WEI-LI)', 'r12922116@ntu.edu.tw', '資料庫系統-從SQL到NoSQL (EE5178)')\n"
     ]
    }
   ],
   "source": [
    "mycursor.execute(\"UPDATE student SET 身份 = '特優生' WHERE 學號 = 'R12922116'\")\n",
    "mydb.commit()\n",
    "\n",
    "mycursor.execute(\"SELECT * FROM student WHERE 學號 = 'R12922116'\")\n",
    "print(mycursor.fetchall()[0])"
   ]
  },
  {
   "attachments": {},
   "cell_type": "markdown",
   "metadata": {},
   "source": [
    "## 1-4: Insert three new students "
   ]
  },
  {
   "cell_type": "code",
   "execution_count": 5,
   "metadata": {},
   "outputs": [],
   "source": [
    "df4 = pd.read_csv(new_student_path, encoding = 'utf-8')\n",
    "df4 = df4.where(pd.notnull(df4), None)\n",
    "\n",
    "for index, row in df4.iterrows():\n",
    "    row = [trim(cell) for cell in row]\n",
    "    mycursor2.execute(\"INSERT INTO student (身份, 系所, 年級, 學號, 姓名, 信箱, 班別) VALUES (%s, %s, %s, %s, %s, %s, %s)\", tuple(row))\n",
    "    mydb.commit()"
   ]
  },
  {
   "attachments": {},
   "cell_type": "markdown",
   "metadata": {},
   "source": [
    "## 1-5: Prepared select statement "
   ]
  },
  {
   "cell_type": "code",
   "execution_count": 6,
   "metadata": {},
   "outputs": [
    {
     "name": "stdout",
     "output_type": "stream",
     "text": [
      "('旁聽生', '電機所', 2, 'R10123456', '小紅', 'r10123456@ntu.edu.tw', '資料庫系統-從SQL到NoSQL (EE5178)')\n",
      "('學生', '物理系', 3, 'B09987653', '小黃', 'b09987653@ntu.edu.tw', '資料庫系統-從SQL到NoSQL (EE5178)')\n",
      "('觀察者', '電信所', 1, 'R11123001', '小綠', 'r11123001@ntu.edu.tw', '資料庫系統-從SQL到NoSQL (EE5178)')\n"
     ]
    }
   ],
   "source": [
    "pre_stmt = \"SELECT * FROM student WHERE 學號 = %s\"\n",
    "student_ids = ['R10123456', 'B09987653', 'R11123001']\n",
    "\n",
    "for student_id in student_ids:\n",
    "    mycursor2.execute(pre_stmt, (student_id,))\n",
    "    print(mycursor2.fetchall()[0])"
   ]
  },
  {
   "attachments": {},
   "cell_type": "markdown",
   "metadata": {},
   "source": [
    "## 1-6: Group information"
   ]
  },
  {
   "cell_type": "code",
   "execution_count": 7,
   "metadata": {},
   "outputs": [
    {
     "name": "stdout",
     "output_type": "stream",
     "text": [
      "('學生', '機械系', 4, 'B09502132', '周哲瑋 (CHOU,CHE-WEI)', 'b09502132@ntu.edu.tw', '資料庫系統-從SQL到NoSQL (EE5178)', 7, 0)\n",
      "('學生', '電機所', 1, 'R12921059', '鄧雅文 (TENG, YA-WEN)', 'r12921059@ntu.edu.tw', '資料庫系統-從SQL到NoSQL (EE5178)', 7, 1)\n",
      "('學生', '電機所', 1, 'R12921093', '吳吉加 (CHI-CHIA WU)', 'r12921093@ntu.edu.tw', '資料庫系統-從SQL到NoSQL (EE5178)', 7, 0)\n",
      "('特優生', '資工所', 1, 'R12922116', '王偉力 (WANG, WEI-LI)', 'r12922116@ntu.edu.tw', '資料庫系統-從SQL到NoSQL (EE5178)', 7, 0)\n"
     ]
    }
   ],
   "source": [
    "#(1)\n",
    "mycursor.execute(\"ALTER TABLE student ADD COLUMN `group` int DEFAULT 0, ADD COLUMN `captain` int DEFAULT 0\")\n",
    "mydb.commit()\n",
    "\n",
    "#(2)\n",
    "mycursor.execute(\"UPDATE student SET `group` = 7 WHERE 學號 IN ('R12921059', 'R12922116', 'R12921093', 'B09502132')\")\n",
    "mydb.commit()\n",
    "\n",
    "#(3)\n",
    "mycursor.execute(\"UPDATE student SET `captain` = 1 WHERE 學號 = 'R12921059'\")\n",
    "mydb.commit()\n",
    "\n",
    "#(4)\n",
    "mycursor.execute(\"SELECT * FROM student WHERE `group` = 7\")\n",
    "for row in mycursor.fetchall():\n",
    "    print(row)\n",
    "    \n",
    "mycursor.close()\n",
    "mycursor2.close()\n",
    "mydb.close()"
   ]
  }
 ],
 "metadata": {
  "kernelspec": {
   "display_name": "ta_hw4",
   "language": "python",
   "name": "python3"
  },
  "language_info": {
   "codemirror_mode": {
    "name": "ipython",
    "version": 3
   },
   "file_extension": ".py",
   "mimetype": "text/x-python",
   "name": "python",
   "nbconvert_exporter": "python",
   "pygments_lexer": "ipython3",
   "version": "3.10.12"
  },
  "orig_nbformat": 4
 },
 "nbformat": 4,
 "nbformat_minor": 2
}
